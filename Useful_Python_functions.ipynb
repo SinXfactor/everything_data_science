{
 "cells": [
  {
   "cell_type": "markdown",
   "id": "96149a0a",
   "metadata": {},
   "source": [
    "# `*args & **kwargs`"
   ]
  },
  {
   "cell_type": "markdown",
   "id": "7d5b0057",
   "metadata": {},
   "source": [
    "### Defining a function"
   ]
  },
  {
   "cell_type": "code",
   "execution_count": 1,
   "id": "037c1a7b",
   "metadata": {},
   "outputs": [],
   "source": [
    "def hello(*args, **kwargs):\n",
    "    print(args)\n",
    "    print(kwargs)"
   ]
  },
  {
   "cell_type": "markdown",
   "id": "85c0606d",
   "metadata": {},
   "source": [
    "### Function calling"
   ]
  },
  {
   "cell_type": "code",
   "execution_count": 2,
   "id": "46752cc0",
   "metadata": {},
   "outputs": [
    {
     "name": "stdout",
     "output_type": "stream",
     "text": [
      "('sinx', 'yo')\n",
      "{'year': 2022, 'time': 19}\n"
     ]
    }
   ],
   "source": [
    "hello('sinx','yo',year=2022,time=19)"
   ]
  },
  {
   "cell_type": "markdown",
   "id": "5f6afea0",
   "metadata": {},
   "source": [
    "### Defining args as `list` & kwargs as `dictionary`"
   ]
  },
  {
   "cell_type": "code",
   "execution_count": 3,
   "id": "5f207bd8",
   "metadata": {},
   "outputs": [],
   "source": [
    "arg_list = ['sinx', 'yo']\n",
    "kw_dict = {'year': 2022, 'time': 19}"
   ]
  },
  {
   "cell_type": "markdown",
   "id": "c197810c",
   "metadata": {},
   "source": [
    "### Function calling"
   ]
  },
  {
   "cell_type": "code",
   "execution_count": 4,
   "id": "fb6ab3ff",
   "metadata": {},
   "outputs": [
    {
     "name": "stdout",
     "output_type": "stream",
     "text": [
      "('sinx', 'yo')\n",
      "{'year': 2022, 'time': 19}\n"
     ]
    }
   ],
   "source": [
    "hello(*arg_list, **kw_dict)"
   ]
  },
  {
   "cell_type": "markdown",
   "id": "02c6d5d4",
   "metadata": {},
   "source": [
    "# Map Function\n",
    "* Make an iterator that computes the function using arguments from\n",
    "each of the iterables.  Stops when the shortest iterable is exhausted.\n",
    "#### `map(function, list)`"
   ]
  },
  {
   "cell_type": "markdown",
   "id": "31c842f6",
   "metadata": {},
   "source": [
    "### Example function"
   ]
  },
  {
   "cell_type": "code",
   "execution_count": 7,
   "id": "0f29d2a0",
   "metadata": {},
   "outputs": [],
   "source": [
    "def even_or_odd(num):\n",
    "    if num%2==0:\n",
    "        return 'even'\n",
    "    else:\n",
    "        return 'odd'"
   ]
  },
  {
   "cell_type": "markdown",
   "id": "14530a95",
   "metadata": {},
   "source": [
    "### Function calling"
   ]
  },
  {
   "cell_type": "code",
   "execution_count": 8,
   "id": "61142731",
   "metadata": {},
   "outputs": [
    {
     "data": {
      "text/plain": [
       "'odd'"
      ]
     },
     "execution_count": 8,
     "metadata": {},
     "output_type": "execute_result"
    }
   ],
   "source": [
    "even_or_odd(33)"
   ]
  },
  {
   "cell_type": "markdown",
   "id": "eb76aae7",
   "metadata": {},
   "source": [
    "### List to be tested"
   ]
  },
  {
   "cell_type": "code",
   "execution_count": 9,
   "id": "bd9636c1",
   "metadata": {},
   "outputs": [],
   "source": [
    "test_list = [1,2,3,4,5,6,7,8,9,10]"
   ]
  },
  {
   "cell_type": "markdown",
   "id": "62f98980",
   "metadata": {},
   "source": [
    "### memory location of `map` function\n",
    "#### `map(function, list)`"
   ]
  },
  {
   "cell_type": "code",
   "execution_count": 10,
   "id": "675278ad",
   "metadata": {
    "scrolled": true
   },
   "outputs": [
    {
     "data": {
      "text/plain": [
       "<map at 0x27036056260>"
      ]
     },
     "execution_count": 10,
     "metadata": {},
     "output_type": "execute_result"
    }
   ],
   "source": [
    "map(even_or_odd,test_list)"
   ]
  },
  {
   "cell_type": "markdown",
   "id": "466cf1dc",
   "metadata": {},
   "source": [
    "### Listed result of `map` function"
   ]
  },
  {
   "cell_type": "code",
   "execution_count": 14,
   "id": "4d2eb95b",
   "metadata": {
    "scrolled": true
   },
   "outputs": [
    {
     "data": {
      "text/plain": [
       "['odd', 'even', 'odd', 'even', 'odd', 'even', 'odd', 'even', 'odd', 'even']"
      ]
     },
     "execution_count": 14,
     "metadata": {},
     "output_type": "execute_result"
    }
   ],
   "source": [
    "list(map(even_or_odd,test_list))"
   ]
  },
  {
   "cell_type": "markdown",
   "id": "39f8ea80",
   "metadata": {},
   "source": [
    "# Lambda Function\n",
    "A function with no name.\n",
    "#### `lambda(function, list)`"
   ]
  },
  {
   "cell_type": "markdown",
   "id": "c1d3ecf6",
   "metadata": {},
   "source": [
    "### Example function"
   ]
  },
  {
   "cell_type": "code",
   "execution_count": 37,
   "id": "0945e00f",
   "metadata": {},
   "outputs": [],
   "source": [
    "def addition(x,y,z):\n",
    "    return x+y+z"
   ]
  },
  {
   "cell_type": "markdown",
   "id": "ae1bc761",
   "metadata": {},
   "source": [
    "### Function calling"
   ]
  },
  {
   "cell_type": "code",
   "execution_count": 38,
   "id": "e9e7d6ee",
   "metadata": {},
   "outputs": [
    {
     "data": {
      "text/plain": [
       "12"
      ]
     },
     "execution_count": 38,
     "metadata": {},
     "output_type": "execute_result"
    }
   ],
   "source": [
    "addition(3,3,6)"
   ]
  },
  {
   "cell_type": "markdown",
   "id": "be72af0e",
   "metadata": {},
   "source": [
    "### `lambda` function creation"
   ]
  },
  {
   "cell_type": "code",
   "execution_count": 39,
   "id": "e5131ed9",
   "metadata": {},
   "outputs": [],
   "source": [
    "add = lambda x,y,z: x+y+z"
   ]
  },
  {
   "cell_type": "markdown",
   "id": "4f190a8c",
   "metadata": {},
   "source": [
    "### Result of `lambda` function"
   ]
  },
  {
   "cell_type": "code",
   "execution_count": 40,
   "id": "303a6b0b",
   "metadata": {},
   "outputs": [
    {
     "data": {
      "text/plain": [
       "188"
      ]
     },
     "execution_count": 40,
     "metadata": {},
     "output_type": "execute_result"
    }
   ],
   "source": [
    "add(99,55,34)"
   ]
  },
  {
   "cell_type": "markdown",
   "id": "e76d8710",
   "metadata": {},
   "source": [
    "### Example function"
   ]
  },
  {
   "cell_type": "code",
   "execution_count": 26,
   "id": "ddd5860a",
   "metadata": {},
   "outputs": [],
   "source": [
    "def even(num):\n",
    "    if num%2==0:\n",
    "        return True"
   ]
  },
  {
   "cell_type": "markdown",
   "id": "2b990d16",
   "metadata": {},
   "source": [
    "### Function calling"
   ]
  },
  {
   "cell_type": "code",
   "execution_count": 28,
   "id": "69e6b339",
   "metadata": {},
   "outputs": [
    {
     "data": {
      "text/plain": [
       "True"
      ]
     },
     "execution_count": 28,
     "metadata": {},
     "output_type": "execute_result"
    }
   ],
   "source": [
    "even(80)"
   ]
  },
  {
   "cell_type": "markdown",
   "id": "df0519d6",
   "metadata": {},
   "source": [
    "### Function calling"
   ]
  },
  {
   "cell_type": "code",
   "execution_count": 33,
   "id": "17281ff8",
   "metadata": {},
   "outputs": [],
   "source": [
    "even(89)"
   ]
  },
  {
   "cell_type": "markdown",
   "id": "2a40c96a",
   "metadata": {},
   "source": [
    "### `lambda` function creation"
   ]
  },
  {
   "cell_type": "code",
   "execution_count": 34,
   "id": "f660b1b8",
   "metadata": {},
   "outputs": [],
   "source": [
    "evenl = lambda n: n%2==0"
   ]
  },
  {
   "cell_type": "markdown",
   "id": "ff94803a",
   "metadata": {},
   "source": [
    "### Result of `lambda` function"
   ]
  },
  {
   "cell_type": "code",
   "execution_count": 36,
   "id": "52d93f82",
   "metadata": {},
   "outputs": [
    {
     "data": {
      "text/plain": [
       "True"
      ]
     },
     "execution_count": 36,
     "metadata": {},
     "output_type": "execute_result"
    }
   ],
   "source": [
    "evenl(80)"
   ]
  },
  {
   "cell_type": "markdown",
   "id": "5b3b16f6",
   "metadata": {},
   "source": [
    "### Result of `lambda` function"
   ]
  },
  {
   "cell_type": "code",
   "execution_count": 35,
   "id": "2cfc49a6",
   "metadata": {},
   "outputs": [
    {
     "data": {
      "text/plain": [
       "False"
      ]
     },
     "execution_count": 35,
     "metadata": {},
     "output_type": "execute_result"
    }
   ],
   "source": [
    "evenl(89)"
   ]
  },
  {
   "cell_type": "markdown",
   "id": "8ae47a5a",
   "metadata": {},
   "source": [
    "# Filter Function\n",
    "* Returns an iterator yielding those items of iterable for which function(item)\n",
    "is true. If function is None, return the items that are true.\n",
    "#### `filter(function, iterable)`"
   ]
  },
  {
   "cell_type": "markdown",
   "id": "6a264f17",
   "metadata": {},
   "source": [
    "### `filter` function creation"
   ]
  },
  {
   "cell_type": "code",
   "execution_count": 41,
   "id": "1c1bbe45",
   "metadata": {},
   "outputs": [
    {
     "data": {
      "text/plain": [
       "<filter at 0x27036b191b0>"
      ]
     },
     "execution_count": 41,
     "metadata": {},
     "output_type": "execute_result"
    }
   ],
   "source": [
    "filter(even,test_list)"
   ]
  },
  {
   "cell_type": "markdown",
   "id": "09ba64a9",
   "metadata": {},
   "source": [
    "### Result of `filter` function"
   ]
  },
  {
   "cell_type": "code",
   "execution_count": 42,
   "id": "c1cfa290",
   "metadata": {},
   "outputs": [
    {
     "data": {
      "text/plain": [
       "[2, 4, 6, 8, 10]"
      ]
     },
     "execution_count": 42,
     "metadata": {},
     "output_type": "execute_result"
    }
   ],
   "source": [
    "list(filter(even,test_list))"
   ]
  },
  {
   "cell_type": "markdown",
   "id": "84747a3e",
   "metadata": {},
   "source": [
    "### Using `filter` and `lambda`"
   ]
  },
  {
   "cell_type": "code",
   "execution_count": 43,
   "id": "f40cf85b",
   "metadata": {},
   "outputs": [
    {
     "data": {
      "text/plain": [
       "[2, 4, 6, 8, 10]"
      ]
     },
     "execution_count": 43,
     "metadata": {},
     "output_type": "execute_result"
    }
   ],
   "source": [
    "list(filter(lambda a: a%2==0,test_list))"
   ]
  },
  {
   "cell_type": "markdown",
   "id": "89cad5de",
   "metadata": {},
   "source": [
    "### Using `map` and `lambda`"
   ]
  },
  {
   "cell_type": "code",
   "execution_count": 44,
   "id": "c152d92b",
   "metadata": {},
   "outputs": [
    {
     "data": {
      "text/plain": [
       "[False, True, False, True, False, True, False, True, False, True]"
      ]
     },
     "execution_count": 44,
     "metadata": {},
     "output_type": "execute_result"
    }
   ],
   "source": [
    "list(map(lambda a: a%2==0,test_list))"
   ]
  },
  {
   "cell_type": "markdown",
   "id": "b4ff8e1d",
   "metadata": {},
   "source": [
    "# List Comprehension\n",
    "A conscise way to create lists. It consists of brackets containing an expression followed by a for clause, then zero or more for or if clauses."
   ]
  },
  {
   "cell_type": "markdown",
   "id": "b324bd76",
   "metadata": {},
   "source": [
    "### Example function"
   ]
  },
  {
   "cell_type": "code",
   "execution_count": 45,
   "id": "865abeb9",
   "metadata": {},
   "outputs": [],
   "source": [
    "lst1 = []\n",
    "def list_sq(lst):\n",
    "    for i in lst:\n",
    "        lst1.append(i*i)\n",
    "    return lst1"
   ]
  },
  {
   "cell_type": "markdown",
   "id": "e5c86685",
   "metadata": {},
   "source": [
    "### Function calling"
   ]
  },
  {
   "cell_type": "code",
   "execution_count": 46,
   "id": "f938c5b8",
   "metadata": {},
   "outputs": [
    {
     "data": {
      "text/plain": [
       "[1, 4, 9, 16, 25, 36, 49, 64, 81]"
      ]
     },
     "execution_count": 46,
     "metadata": {},
     "output_type": "execute_result"
    }
   ],
   "source": [
    "list_sq([1,2,3,4,5,6,7,8,9])"
   ]
  },
  {
   "cell_type": "markdown",
   "id": "9dd4cb63",
   "metadata": {},
   "source": [
    "### Test List"
   ]
  },
  {
   "cell_type": "code",
   "execution_count": 47,
   "id": "319bb64e",
   "metadata": {},
   "outputs": [],
   "source": [
    "lst = [1,2,3,4,5,6,7,8,9]"
   ]
  },
  {
   "cell_type": "markdown",
   "id": "e2495435",
   "metadata": {},
   "source": [
    "### List Comprehension using `[ ]`"
   ]
  },
  {
   "cell_type": "code",
   "execution_count": 57,
   "id": "6f39632c",
   "metadata": {},
   "outputs": [
    {
     "data": {
      "text/plain": [
       "[4, 16, 36, 64]"
      ]
     },
     "execution_count": 57,
     "metadata": {},
     "output_type": "execute_result"
    }
   ],
   "source": [
    "[i*i for i in lst if i%2==0]"
   ]
  },
  {
   "cell_type": "code",
   "execution_count": null,
   "id": "924b0db6",
   "metadata": {},
   "outputs": [],
   "source": []
  }
 ],
 "metadata": {
  "kernelspec": {
   "display_name": "Python 3 (ipykernel)",
   "language": "python",
   "name": "python3"
  },
  "language_info": {
   "codemirror_mode": {
    "name": "ipython",
    "version": 3
   },
   "file_extension": ".py",
   "mimetype": "text/x-python",
   "name": "python",
   "nbconvert_exporter": "python",
   "pygments_lexer": "ipython3",
   "version": "3.10.0"
  }
 },
 "nbformat": 4,
 "nbformat_minor": 5
}
