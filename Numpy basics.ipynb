{
 "cells": [
  {
   "cell_type": "markdown",
   "id": "1a350471",
   "metadata": {},
   "source": [
    "# Numpy basics"
   ]
  },
  {
   "cell_type": "code",
   "execution_count": 1,
   "id": "cabd11b9",
   "metadata": {},
   "outputs": [],
   "source": [
    "import numpy as np"
   ]
  },
  {
   "cell_type": "markdown",
   "id": "bea514e1",
   "metadata": {},
   "source": [
    "### List example"
   ]
  },
  {
   "cell_type": "code",
   "execution_count": 93,
   "id": "d276dc11",
   "metadata": {},
   "outputs": [
    {
     "data": {
      "text/plain": [
       "list"
      ]
     },
     "execution_count": 93,
     "metadata": {},
     "output_type": "execute_result"
    }
   ],
   "source": [
    "my_list = [1,2,3,4,5]\n",
    "type(my_list)"
   ]
  },
  {
   "cell_type": "markdown",
   "id": "55676198",
   "metadata": {},
   "source": [
    "### Converting list to array"
   ]
  },
  {
   "cell_type": "code",
   "execution_count": 94,
   "id": "8812084a",
   "metadata": {},
   "outputs": [
    {
     "data": {
      "text/plain": [
       "numpy.ndarray"
      ]
     },
     "execution_count": 94,
     "metadata": {},
     "output_type": "execute_result"
    }
   ],
   "source": [
    "arr = np.array(my_list)\n",
    "type(arr)"
   ]
  },
  {
   "cell_type": "markdown",
   "id": "eb1d8b96",
   "metadata": {},
   "source": [
    "### Array representation"
   ]
  },
  {
   "cell_type": "code",
   "execution_count": 95,
   "id": "b9797126",
   "metadata": {},
   "outputs": [
    {
     "data": {
      "text/plain": [
       "array([1, 2, 3, 4, 5])"
      ]
     },
     "execution_count": 95,
     "metadata": {},
     "output_type": "execute_result"
    }
   ],
   "source": [
    "arr"
   ]
  },
  {
   "cell_type": "markdown",
   "id": "4d52c172",
   "metadata": {},
   "source": [
    "### Shape of array\n",
    "##### (row, column)"
   ]
  },
  {
   "cell_type": "code",
   "execution_count": 96,
   "id": "50aa66cf",
   "metadata": {},
   "outputs": [
    {
     "data": {
      "text/plain": [
       "(5,)"
      ]
     },
     "execution_count": 96,
     "metadata": {},
     "output_type": "execute_result"
    }
   ],
   "source": [
    "arr.shape"
   ]
  },
  {
   "cell_type": "markdown",
   "id": "8ee1f87b",
   "metadata": {},
   "source": [
    "### Reshaping array"
   ]
  },
  {
   "cell_type": "code",
   "execution_count": 97,
   "id": "72c3f0df",
   "metadata": {},
   "outputs": [
    {
     "data": {
      "text/plain": [
       "array([[1, 2, 3, 4, 5]])"
      ]
     },
     "execution_count": 97,
     "metadata": {},
     "output_type": "execute_result"
    }
   ],
   "source": [
    "arr.reshape(1,5)"
   ]
  },
  {
   "cell_type": "markdown",
   "id": "10706d47",
   "metadata": {},
   "source": [
    "### 2-D array"
   ]
  },
  {
   "cell_type": "code",
   "execution_count": 98,
   "id": "fe7df0d9",
   "metadata": {},
   "outputs": [],
   "source": [
    "my_list1 = [1,2,3,4,5]\n",
    "my_list2 = [5,6,7,8,9]\n",
    "my_list3 = [9,3,6,7,4]\n",
    "arr2 = np.array([my_list1,my_list2,my_list3])"
   ]
  },
  {
   "cell_type": "code",
   "execution_count": 99,
   "id": "8e095fa0",
   "metadata": {},
   "outputs": [
    {
     "data": {
      "text/plain": [
       "array([[1, 2, 3, 4, 5],\n",
       "       [5, 6, 7, 8, 9],\n",
       "       [9, 3, 6, 7, 4]])"
      ]
     },
     "execution_count": 99,
     "metadata": {},
     "output_type": "execute_result"
    }
   ],
   "source": [
    "arr2"
   ]
  },
  {
   "cell_type": "code",
   "execution_count": 100,
   "id": "5bb10b1a",
   "metadata": {},
   "outputs": [
    {
     "data": {
      "text/plain": [
       "(3, 5)"
      ]
     },
     "execution_count": 100,
     "metadata": {},
     "output_type": "execute_result"
    }
   ],
   "source": [
    "arr2.shape"
   ]
  },
  {
   "cell_type": "markdown",
   "id": "b6249a63",
   "metadata": {},
   "source": [
    "### 2-D array reshaping"
   ]
  },
  {
   "cell_type": "code",
   "execution_count": 101,
   "id": "66d04294",
   "metadata": {},
   "outputs": [
    {
     "data": {
      "text/plain": [
       "array([[1, 2, 3],\n",
       "       [4, 5, 5],\n",
       "       [6, 7, 8],\n",
       "       [9, 9, 3],\n",
       "       [6, 7, 4]])"
      ]
     },
     "execution_count": 101,
     "metadata": {},
     "output_type": "execute_result"
    }
   ],
   "source": [
    "arr3 = arr2.reshape(5,3)\n",
    "arr3"
   ]
  },
  {
   "cell_type": "code",
   "execution_count": 102,
   "id": "6adc94d0",
   "metadata": {},
   "outputs": [
    {
     "data": {
      "text/plain": [
       "(5, 3)"
      ]
     },
     "execution_count": 102,
     "metadata": {},
     "output_type": "execute_result"
    }
   ],
   "source": [
    "arr3.shape"
   ]
  },
  {
   "cell_type": "markdown",
   "id": "02df33b0",
   "metadata": {},
   "source": [
    "### Array indexing"
   ]
  },
  {
   "cell_type": "code",
   "execution_count": 103,
   "id": "9cbd3b17",
   "metadata": {},
   "outputs": [
    {
     "data": {
      "text/plain": [
       "array([1, 2, 3, 4, 5])"
      ]
     },
     "execution_count": 103,
     "metadata": {},
     "output_type": "execute_result"
    }
   ],
   "source": [
    "arr"
   ]
  },
  {
   "cell_type": "code",
   "execution_count": 104,
   "id": "7d42ff78",
   "metadata": {},
   "outputs": [
    {
     "data": {
      "text/plain": [
       "4"
      ]
     },
     "execution_count": 104,
     "metadata": {},
     "output_type": "execute_result"
    }
   ],
   "source": [
    "arr[3]"
   ]
  },
  {
   "cell_type": "markdown",
   "id": "0f09fcfe",
   "metadata": {},
   "source": [
    "### Array slicing"
   ]
  },
  {
   "cell_type": "code",
   "execution_count": 105,
   "id": "0296e3c3",
   "metadata": {},
   "outputs": [
    {
     "data": {
      "text/plain": [
       "array([[1, 2, 3, 4, 5],\n",
       "       [5, 6, 7, 8, 9],\n",
       "       [9, 3, 6, 7, 4]])"
      ]
     },
     "execution_count": 105,
     "metadata": {},
     "output_type": "execute_result"
    }
   ],
   "source": [
    "arr2"
   ]
  },
  {
   "cell_type": "code",
   "execution_count": 106,
   "id": "22fbed80",
   "metadata": {},
   "outputs": [
    {
     "data": {
      "text/plain": [
       "array([[2, 3, 4],\n",
       "       [6, 7, 8]])"
      ]
     },
     "execution_count": 106,
     "metadata": {},
     "output_type": "execute_result"
    }
   ],
   "source": [
    "arr2[0:2,1:4]"
   ]
  },
  {
   "cell_type": "code",
   "execution_count": 107,
   "id": "2f6df34d",
   "metadata": {},
   "outputs": [
    {
     "data": {
      "text/plain": [
       "array([[6, 7, 8]])"
      ]
     },
     "execution_count": 107,
     "metadata": {},
     "output_type": "execute_result"
    }
   ],
   "source": [
    "arr2[1:2,1:4]"
   ]
  },
  {
   "cell_type": "markdown",
   "id": "631b9ad8",
   "metadata": {},
   "source": [
    "### Arange method\n",
    "##### (start, stop, step)"
   ]
  },
  {
   "cell_type": "code",
   "execution_count": 108,
   "id": "a2a11fb5",
   "metadata": {},
   "outputs": [
    {
     "data": {
      "text/plain": [
       "array([0, 3, 6, 9])"
      ]
     },
     "execution_count": 108,
     "metadata": {},
     "output_type": "execute_result"
    }
   ],
   "source": [
    "arr4 = np.arange(0,10,3)\n",
    "arr4"
   ]
  },
  {
   "cell_type": "markdown",
   "id": "820e8eae",
   "metadata": {},
   "source": [
    "### Linspace method\n",
    "##### (start, stop, numbers)"
   ]
  },
  {
   "cell_type": "code",
   "execution_count": 109,
   "id": "ad13bfac",
   "metadata": {},
   "outputs": [
    {
     "data": {
      "text/plain": [
       "array([ 1.        ,  1.18367347,  1.36734694,  1.55102041,  1.73469388,\n",
       "        1.91836735,  2.10204082,  2.28571429,  2.46938776,  2.65306122,\n",
       "        2.83673469,  3.02040816,  3.20408163,  3.3877551 ,  3.57142857,\n",
       "        3.75510204,  3.93877551,  4.12244898,  4.30612245,  4.48979592,\n",
       "        4.67346939,  4.85714286,  5.04081633,  5.2244898 ,  5.40816327,\n",
       "        5.59183673,  5.7755102 ,  5.95918367,  6.14285714,  6.32653061,\n",
       "        6.51020408,  6.69387755,  6.87755102,  7.06122449,  7.24489796,\n",
       "        7.42857143,  7.6122449 ,  7.79591837,  7.97959184,  8.16326531,\n",
       "        8.34693878,  8.53061224,  8.71428571,  8.89795918,  9.08163265,\n",
       "        9.26530612,  9.44897959,  9.63265306,  9.81632653, 10.        ])"
      ]
     },
     "execution_count": 109,
     "metadata": {},
     "output_type": "execute_result"
    }
   ],
   "source": [
    "np.linspace(1,10,50)"
   ]
  },
  {
   "cell_type": "markdown",
   "id": "4630c05a",
   "metadata": {},
   "source": [
    "### Use .copy() to avoid aray overriding"
   ]
  },
  {
   "cell_type": "code",
   "execution_count": 110,
   "id": "09347769",
   "metadata": {},
   "outputs": [
    {
     "data": {
      "text/plain": [
       "array([  1,   2,   3, 999, 999])"
      ]
     },
     "execution_count": 110,
     "metadata": {},
     "output_type": "execute_result"
    }
   ],
   "source": [
    "arr5 = arr.copy()\n",
    "arr5[3:] = 999\n",
    "arr5"
   ]
  },
  {
   "cell_type": "code",
   "execution_count": 111,
   "id": "04dd4710",
   "metadata": {},
   "outputs": [
    {
     "data": {
      "text/plain": [
       "array([1, 2, 3, 4, 5])"
      ]
     },
     "execution_count": 111,
     "metadata": {},
     "output_type": "execute_result"
    }
   ],
   "source": [
    "arr"
   ]
  },
  {
   "cell_type": "markdown",
   "id": "8be84a95",
   "metadata": {},
   "source": [
    "### Condition checking"
   ]
  },
  {
   "cell_type": "code",
   "execution_count": 112,
   "id": "f8118288",
   "metadata": {},
   "outputs": [
    {
     "data": {
      "text/plain": [
       "array([ True,  True, False, False, False])"
      ]
     },
     "execution_count": 112,
     "metadata": {},
     "output_type": "execute_result"
    }
   ],
   "source": [
    "arr < 3"
   ]
  },
  {
   "cell_type": "markdown",
   "id": "30260eae",
   "metadata": {},
   "source": [
    "### Array of Ones\n",
    "Return a new array of given shape and type, filled with ones"
   ]
  },
  {
   "cell_type": "code",
   "execution_count": 113,
   "id": "ff4dd2fc",
   "metadata": {},
   "outputs": [
    {
     "data": {
      "text/plain": [
       "array([1., 1., 1., 1.])"
      ]
     },
     "execution_count": 113,
     "metadata": {},
     "output_type": "execute_result"
    }
   ],
   "source": [
    "np.ones(4)"
   ]
  },
  {
   "cell_type": "code",
   "execution_count": 114,
   "id": "86f8f0af",
   "metadata": {},
   "outputs": [
    {
     "data": {
      "text/plain": [
       "array([1, 1, 1, 1])"
      ]
     },
     "execution_count": 114,
     "metadata": {},
     "output_type": "execute_result"
    }
   ],
   "source": [
    "np.ones(4, dtype = int)"
   ]
  },
  {
   "cell_type": "code",
   "execution_count": 115,
   "id": "29964d36",
   "metadata": {},
   "outputs": [
    {
     "data": {
      "text/plain": [
       "array([[1., 1., 1., 1.],\n",
       "       [1., 1., 1., 1.]])"
      ]
     },
     "execution_count": 115,
     "metadata": {},
     "output_type": "execute_result"
    }
   ],
   "source": [
    "np.ones((2,4), dtype = float)"
   ]
  },
  {
   "cell_type": "markdown",
   "id": "960a2402",
   "metadata": {},
   "source": [
    "### Array of Zeros\n",
    "Return a new array of given shape and type, filled with zeros"
   ]
  },
  {
   "cell_type": "code",
   "execution_count": 4,
   "id": "2a4f28c1",
   "metadata": {},
   "outputs": [
    {
     "data": {
      "text/plain": [
       "array([0., 0., 0., 0.])"
      ]
     },
     "execution_count": 4,
     "metadata": {},
     "output_type": "execute_result"
    }
   ],
   "source": [
    "np.zeros(4)"
   ]
  },
  {
   "cell_type": "code",
   "execution_count": null,
   "id": "8b5bd959",
   "metadata": {},
   "outputs": [],
   "source": [
    "np.zeros_like"
   ]
  },
  {
   "cell_type": "markdown",
   "id": "ef50d750",
   "metadata": {},
   "source": [
    "### Random method"
   ]
  },
  {
   "cell_type": "markdown",
   "id": "78b20b44",
   "metadata": {},
   "source": [
    "##### .rand(rows, columns)\n",
    "Random values in a given shape"
   ]
  },
  {
   "cell_type": "code",
   "execution_count": 2,
   "id": "c0921e97",
   "metadata": {},
   "outputs": [
    {
     "data": {
      "text/plain": [
       "array([[0.62394814, 0.40210907, 0.17504887],\n",
       "       [0.40487483, 0.34051666, 0.5553348 ],\n",
       "       [0.03665002, 0.77361449, 0.94814162],\n",
       "       [0.56630737, 0.27212059, 0.05956367]])"
      ]
     },
     "execution_count": 2,
     "metadata": {},
     "output_type": "execute_result"
    }
   ],
   "source": [
    "np.random.rand(4,3)"
   ]
  },
  {
   "cell_type": "markdown",
   "id": "7bc6778d",
   "metadata": {},
   "source": [
    "##### .randn(rows, columns)\n",
    "Return a sample (or samples) from the \"standard normal\" distribution"
   ]
  },
  {
   "cell_type": "code",
   "execution_count": 117,
   "id": "2bcc6a5b",
   "metadata": {},
   "outputs": [
    {
     "data": {
      "text/plain": [
       "array([[-1.93996395, -1.34077908,  0.53990001,  1.40692841],\n",
       "       [ 1.65920006,  0.88462106,  2.28868094,  1.29972852],\n",
       "       [ 2.86075672, -0.90440703,  1.11827955,  0.01122129],\n",
       "       [-1.30144295, -0.55527843, -1.3038849 , -1.15755175]])"
      ]
     },
     "execution_count": 117,
     "metadata": {},
     "output_type": "execute_result"
    }
   ],
   "source": [
    "arr_ex = np.random.randn(4,4)\n",
    "arr_ex"
   ]
  },
  {
   "cell_type": "markdown",
   "id": "e136069f",
   "metadata": {},
   "source": [
    "##### .randint(low, high, size)\n",
    "Return random integers from `low` (inclusive) to `high` (exclusive)"
   ]
  },
  {
   "cell_type": "code",
   "execution_count": 118,
   "id": "c42060fc",
   "metadata": {},
   "outputs": [
    {
     "data": {
      "text/plain": [
       "array([60, 92, 11, 20, 57, 46, 45, 85])"
      ]
     },
     "execution_count": 118,
     "metadata": {},
     "output_type": "execute_result"
    }
   ],
   "source": [
    "np.random.randint(0,100,8)"
   ]
  },
  {
   "cell_type": "code",
   "execution_count": 119,
   "id": "5a98933e",
   "metadata": {},
   "outputs": [
    {
     "data": {
      "text/plain": [
       "array([[24, 97, 47, 69],\n",
       "       [33, 93, 95, 67]])"
      ]
     },
     "execution_count": 119,
     "metadata": {},
     "output_type": "execute_result"
    }
   ],
   "source": [
    "np.random.randint(0,100,8).reshape(2,4)"
   ]
  },
  {
   "cell_type": "markdown",
   "id": "029645e2",
   "metadata": {},
   "source": [
    "##### .random_sample()\n",
    "Return random floats in the half-open interval [0.0, 1.0)"
   ]
  },
  {
   "cell_type": "code",
   "execution_count": 120,
   "id": "308c3286",
   "metadata": {},
   "outputs": [
    {
     "data": {
      "text/plain": [
       "array([[0.87614788, 0.47999111, 0.30423898, 0.10879568, 0.49162947]])"
      ]
     },
     "execution_count": 120,
     "metadata": {},
     "output_type": "execute_result"
    }
   ],
   "source": [
    "np.random.random_sample((1,5))"
   ]
  }
 ],
 "metadata": {
  "kernelspec": {
   "display_name": "Python 3 (ipykernel)",
   "language": "python",
   "name": "python3"
  },
  "language_info": {
   "codemirror_mode": {
    "name": "ipython",
    "version": 3
   },
   "file_extension": ".py",
   "mimetype": "text/x-python",
   "name": "python",
   "nbconvert_exporter": "python",
   "pygments_lexer": "ipython3",
   "version": "3.10.0"
  }
 },
 "nbformat": 4,
 "nbformat_minor": 5
}
