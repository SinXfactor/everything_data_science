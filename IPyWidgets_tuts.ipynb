{
 "cells": [
  {
   "cell_type": "code",
   "execution_count": 1,
   "id": "070595dd",
   "metadata": {},
   "outputs": [],
   "source": [
    "import ipywidgets as wiz\n",
    "import seaborn as sns\n",
    "import numpy as np\n",
    "from matplotlib import pyplot as plt"
   ]
  },
  {
   "cell_type": "code",
   "execution_count": 2,
   "id": "5e6d7541",
   "metadata": {},
   "outputs": [
    {
     "data": {
      "application/vnd.jupyter.widget-view+json": {
       "model_id": "bff3ca6be18347bdb54fbba98d15758f",
       "version_major": 2,
       "version_minor": 0
      },
      "text/plain": [
       "IntSlider(value=0)"
      ]
     },
     "metadata": {},
     "output_type": "display_data"
    }
   ],
   "source": [
    "wiz.IntSlider()"
   ]
  },
  {
   "cell_type": "code",
   "execution_count": 3,
   "id": "86ffa12f",
   "metadata": {},
   "outputs": [],
   "source": [
    "w = wiz.IntSlider()"
   ]
  },
  {
   "cell_type": "markdown",
   "id": "4e084b71",
   "metadata": {},
   "source": [
    "### IPython helps in rendering various `ipywidgets`"
   ]
  },
  {
   "cell_type": "code",
   "execution_count": 4,
   "id": "25d54d0d",
   "metadata": {},
   "outputs": [],
   "source": [
    "from IPython.display import display"
   ]
  },
  {
   "cell_type": "code",
   "execution_count": 5,
   "id": "abe1f575",
   "metadata": {},
   "outputs": [
    {
     "data": {
      "application/vnd.jupyter.widget-view+json": {
       "model_id": "caa14b2be2c54fc9b5f3cd7d57b5a5dc",
       "version_major": 2,
       "version_minor": 0
      },
      "text/plain": [
       "IntSlider(value=0)"
      ]
     },
     "metadata": {},
     "output_type": "display_data"
    }
   ],
   "source": [
    "display(w)"
   ]
  },
  {
   "cell_type": "code",
   "execution_count": 6,
   "id": "7e1753ab",
   "metadata": {},
   "outputs": [
    {
     "data": {
      "text/plain": [
       "0"
      ]
     },
     "execution_count": 6,
     "metadata": {},
     "output_type": "execute_result"
    }
   ],
   "source": [
    "w.value"
   ]
  },
  {
   "cell_type": "code",
   "execution_count": 7,
   "id": "4ff0d4f4",
   "metadata": {},
   "outputs": [
    {
     "data": {
      "text/plain": [
       "1"
      ]
     },
     "execution_count": 7,
     "metadata": {},
     "output_type": "execute_result"
    }
   ],
   "source": [
    "w.step"
   ]
  },
  {
   "cell_type": "code",
   "execution_count": 8,
   "id": "6938abf0",
   "metadata": {},
   "outputs": [
    {
     "data": {
      "application/vnd.jupyter.widget-view+json": {
       "model_id": "9359d69a397f4ed1b8793f886530f13e",
       "version_major": 2,
       "version_minor": 0
      },
      "text/plain": [
       "IntSlider(value=0, description='Numbers:', step=2)"
      ]
     },
     "metadata": {},
     "output_type": "display_data"
    }
   ],
   "source": [
    "wiz.IntSlider(step=2, description='Numbers:')"
   ]
  },
  {
   "cell_type": "code",
   "execution_count": 9,
   "id": "05bb5b68",
   "metadata": {},
   "outputs": [],
   "source": [
    "cars = sns.load_dataset('mpg')\n",
    "\n",
    "def bandwidth_widget(bw=1):\n",
    "    sns.kdeplot(data=cars, x='horsepower', lw=3, fill=True, bw_adjust=bw)\n",
    "    plt.xlim(-30, 300)\n",
    "    plt.ylim(0, 0.03)"
   ]
  },
  {
   "cell_type": "code",
   "execution_count": 10,
   "id": "449a804d",
   "metadata": {},
   "outputs": [
    {
     "data": {
      "application/vnd.jupyter.widget-view+json": {
       "model_id": "9fb624236b044529b75436841be6cd51",
       "version_major": 2,
       "version_minor": 0
      },
      "text/plain": [
       "interactive(children=(FloatSlider(value=1.0, description='bw', max=3.0, min=0.1), Output()), _dom_classes=('wi…"
      ]
     },
     "metadata": {},
     "output_type": "display_data"
    },
    {
     "data": {
      "text/plain": [
       "<function __main__.bandwidth_widget(bw=1)>"
      ]
     },
     "execution_count": 10,
     "metadata": {},
     "output_type": "execute_result"
    }
   ],
   "source": [
    "wiz.interact(bandwidth_widget, bw=(.1, 3))"
   ]
  },
  {
   "cell_type": "code",
   "execution_count": 11,
   "id": "8ba3004a",
   "metadata": {},
   "outputs": [
    {
     "data": {
      "application/vnd.jupyter.widget-view+json": {
       "model_id": "bc0552bfc0b8401e85cf130217a8ca02",
       "version_major": 2,
       "version_minor": 0
      },
      "text/plain": [
       "interactive(children=(FloatSlider(value=1.0, description='bw', max=3.0, min=0.1), Output()), _dom_classes=('wi…"
      ]
     },
     "metadata": {},
     "output_type": "display_data"
    }
   ],
   "source": [
    "@wiz.interact(bw=(.1, 3, .1))\n",
    "def bandwidth_widget(bw=1):\n",
    "    sns.kdeplot(data=cars, x='horsepower', lw=3, fill=True, bw_adjust=bw)\n",
    "    plt.xlim(-30, 300)\n",
    "    plt.ylim(0, 0.03)"
   ]
  },
  {
   "cell_type": "code",
   "execution_count": 12,
   "id": "1a8a2196",
   "metadata": {},
   "outputs": [],
   "source": [
    "x = np.random.uniform(0, 5, size=100)\n",
    "ep = np.random.normal(size=100)\n",
    "y = 2*x + ep"
   ]
  },
  {
   "cell_type": "code",
   "execution_count": 13,
   "id": "b5fabf48",
   "metadata": {},
   "outputs": [
    {
     "data": {
      "image/png": "[encoded data removed]",
      "text/plain": [
       "<Figure size 432x288 with 1 Axes>"
      ]
     },
     "metadata": {
      "needs_background": "light"
     },
     "output_type": "display_data"
    }
   ],
   "source": [
    "plt.scatter(x, y);"
   ]
  },
  {
   "cell_type": "code",
   "execution_count": 14,
   "id": "7aec106e",
   "metadata": {},
   "outputs": [],
   "source": [
    "x_values = np.linspace(0, 5, 1000)"
   ]
  },
  {
   "cell_type": "code",
   "execution_count": 15,
   "id": "43109446",
   "metadata": {},
   "outputs": [],
   "source": [
    "def slope_viz(m=1):\n",
    "    plt.scatter(x, y)\n",
    "    plt.plot(x_values, m*x_values, lw=3, color='k')\n",
    "    plt.ylim(-1.2, 12.2)"
   ]
  },
  {
   "cell_type": "code",
   "execution_count": 16,
   "id": "34a0a41f",
   "metadata": {},
   "outputs": [
    {
     "data": {
      "image/png": "[encoded data removed]",
      "text/plain": [
       "<Figure size 432x288 with 1 Axes>"
      ]
     },
     "metadata": {
      "needs_background": "light"
     },
     "output_type": "display_data"
    }
   ],
   "source": [
    "slope_viz(m=0.6)"
   ]
  },
  {
   "cell_type": "code",
   "execution_count": 17,
   "id": "f44e2ec1",
   "metadata": {},
   "outputs": [
    {
     "data": {
      "application/vnd.jupyter.widget-view+json": {
       "model_id": "14be8bdb79444de99d30120cc7abc99d",
       "version_major": 2,
       "version_minor": 0
      },
      "text/plain": [
       "interactive(children=(FloatSlider(value=1.0, description='m', max=5.0, min=0.2, step=0.2), Output()), _dom_cla…"
      ]
     },
     "metadata": {},
     "output_type": "display_data"
    },
    {
     "data": {
      "text/plain": [
       "<function __main__.slope_viz(m=1)>"
      ]
     },
     "execution_count": 17,
     "metadata": {},
     "output_type": "execute_result"
    }
   ],
   "source": [
    "wiz.interact(slope_viz, m=(0.2, 5, 0.2))"
   ]
  },
  {
   "cell_type": "code",
   "execution_count": 18,
   "id": "9a2df1bb",
   "metadata": {},
   "outputs": [
    {
     "data": {
      "application/vnd.jupyter.widget-view+json": {
       "model_id": "304c4958a95e4f16b4a901bf3aba1434",
       "version_major": 2,
       "version_minor": 0
      },
      "text/plain": [
       "interactive(children=(Dropdown(description='m', index=1, options=(0, 1, 2, 3, 4), value=1), Output()), _dom_cl…"
      ]
     },
     "metadata": {},
     "output_type": "display_data"
    },
    {
     "data": {
      "text/plain": [
       "<function __main__.slope_viz(m=1)>"
      ]
     },
     "execution_count": 18,
     "metadata": {},
     "output_type": "execute_result"
    }
   ],
   "source": [
    "wiz.interact(slope_viz, m=[0, 1, 2, 3, 4])"
   ]
  },
  {
   "cell_type": "code",
   "execution_count": 19,
   "id": "bfe1d856",
   "metadata": {},
   "outputs": [],
   "source": [
    "def slope_viz(m=1, line=False, text=\"\"):\n",
    "    plt.scatter(x, y)\n",
    "    \n",
    "    if line:\n",
    "        plt.plot(x_values, m*x_values, lw=3, color='k')\n",
    "    if text:\n",
    "        plt.text(0, 10, f'{text}\\nThe slope is {m}.')\n",
    "    plt.ylim(-1.2, 12.2)"
   ]
  },
  {
   "cell_type": "code",
   "execution_count": 20,
   "id": "a09b7c81",
   "metadata": {},
   "outputs": [
    {
     "data": {
      "application/vnd.jupyter.widget-view+json": {
       "model_id": "40d69c980a8f4cceaeb30c79fa22d79a",
       "version_major": 2,
       "version_minor": 0
      },
      "text/plain": [
       "interactive(children=(Dropdown(description='m', index=1, options=(0, 1, 2, 3, 4), value=1), Checkbox(value=Fal…"
      ]
     },
     "metadata": {},
     "output_type": "display_data"
    },
    {
     "data": {
      "text/plain": [
       "<function __main__.slope_viz(m=1, line=False, text='')>"
      ]
     },
     "execution_count": 20,
     "metadata": {},
     "output_type": "execute_result"
    }
   ],
   "source": [
    "wiz.interact(slope_viz, m=[0, 1, 2, 3, 4], line=False, text=\"\")"
   ]
  },
  {
   "cell_type": "code",
   "execution_count": 21,
   "id": "391faa5a",
   "metadata": {},
   "outputs": [],
   "source": [
    "radio_buttons = wiz.RadioButtons(options=[0, 1, 2, 3, 4], value=1, description=\"slope\")"
   ]
  },
  {
   "cell_type": "code",
   "execution_count": 22,
   "id": "85c02678",
   "metadata": {},
   "outputs": [
    {
     "data": {
      "application/vnd.jupyter.widget-view+json": {
       "model_id": "cf170501560343ac9a681696f5957686",
       "version_major": 2,
       "version_minor": 0
      },
      "text/plain": [
       "interactive(children=(RadioButtons(description='slope', index=1, options=(0, 1, 2, 3, 4), value=1), Checkbox(v…"
      ]
     },
     "metadata": {},
     "output_type": "display_data"
    },
    {
     "data": {
      "text/plain": [
       "<function __main__.slope_viz(m=1, line=False, text='')>"
      ]
     },
     "execution_count": 22,
     "metadata": {},
     "output_type": "execute_result"
    }
   ],
   "source": [
    "wiz.interact(slope_viz, m = radio_buttons)"
   ]
  },
  {
   "cell_type": "code",
   "execution_count": 23,
   "id": "450f384f",
   "metadata": {},
   "outputs": [],
   "source": [
    "x = np.linspace(0, 2*np.pi, 1000)"
   ]
  },
  {
   "cell_type": "code",
   "execution_count": 24,
   "id": "96d777ad",
   "metadata": {},
   "outputs": [],
   "source": [
    "def sine_wave(t=0):\n",
    "    y = np.sin(x+0.1*t)\n",
    "    plt.plot(x, y)\n",
    "    plt.xlim(0, 2*np.pi)\n",
    "    plt.ylim(-1.5, 1.5)"
   ]
  },
  {
   "cell_type": "code",
   "execution_count": 25,
   "id": "14376dd6",
   "metadata": {},
   "outputs": [
    {
     "data": {
      "image/png": "[encoded data removed]",
      "text/plain": [
       "<Figure size 432x288 with 1 Axes>"
      ]
     },
     "metadata": {
      "needs_background": "light"
     },
     "output_type": "display_data"
    }
   ],
   "source": [
    "sine_wave(t=1)"
   ]
  },
  {
   "cell_type": "code",
   "execution_count": 26,
   "id": "3ca7abc3",
   "metadata": {},
   "outputs": [
    {
     "data": {
      "application/vnd.jupyter.widget-view+json": {
       "model_id": "64cdf15dfa8941ed8f996d68ebfccfa0",
       "version_major": 2,
       "version_minor": 0
      },
      "text/plain": [
       "interactive(children=(IntSlider(value=0, description='t', max=20), Output()), _dom_classes=('widget-interact',…"
      ]
     },
     "metadata": {},
     "output_type": "display_data"
    },
    {
     "data": {
      "text/plain": [
       "<function __main__.sine_wave(t=0)>"
      ]
     },
     "execution_count": 26,
     "metadata": {},
     "output_type": "execute_result"
    }
   ],
   "source": [
    "wiz.interact(sine_wave, t=(0, 20, 1))"
   ]
  },
  {
   "cell_type": "code",
   "execution_count": 27,
   "id": "b16958e3",
   "metadata": {},
   "outputs": [
    {
     "data": {
      "application/vnd.jupyter.widget-view+json": {
       "model_id": "c5ad3803fbbc450bb13be5f849edf770",
       "version_major": 2,
       "version_minor": 0
      },
      "text/plain": [
       "interactive(children=(Play(value=0, description='t', max=20), Output()), _dom_classes=('widget-interact',))"
      ]
     },
     "metadata": {},
     "output_type": "display_data"
    },
    {
     "data": {
      "text/plain": [
       "<function __main__.sine_wave(t=0)>"
      ]
     },
     "execution_count": 27,
     "metadata": {},
     "output_type": "execute_result"
    }
   ],
   "source": [
    "wiz.interact(sine_wave, t=wiz.Play(min=0, max=20))"
   ]
  },
  {
   "cell_type": "code",
   "execution_count": 28,
   "id": "80c51d39",
   "metadata": {},
   "outputs": [],
   "source": [
    "def sine_wave_freq(t=0, freq=1):\n",
    "    y = np.sin(freq * (x+0.1*t))\n",
    "    plt.plot(x, y)\n",
    "    plt.xlim(0, 2*np.pi)\n",
    "    plt.ylim(-1.5, 1.5)"
   ]
  },
  {
   "cell_type": "code",
   "execution_count": 29,
   "id": "f60c1435",
   "metadata": {
    "scrolled": false
   },
   "outputs": [
    {
     "data": {
      "application/vnd.jupyter.widget-view+json": {
       "model_id": "4e3eb07fb9984212a2d42a203847bf58",
       "version_major": 2,
       "version_minor": 0
      },
      "text/plain": [
       "interactive(children=(Play(value=0, description='t', max=20), FloatSlider(value=1.0, description='freq', max=5…"
      ]
     },
     "metadata": {},
     "output_type": "display_data"
    },
    {
     "data": {
      "text/plain": [
       "<function __main__.sine_wave_freq(t=0, freq=1)>"
      ]
     },
     "execution_count": 29,
     "metadata": {},
     "output_type": "execute_result"
    }
   ],
   "source": [
    "wiz.interact(sine_wave_freq, t=wiz.Play(min=0, max=20), freq=(1, 5, 0.5))"
   ]
  },
  {
   "cell_type": "code",
   "execution_count": null,
   "id": "e3f684c6",
   "metadata": {},
   "outputs": [],
   "source": []
  }
 ],
 "metadata": {
  "kernelspec": {
   "display_name": "Python 3 (ipykernel)",
   "language": "python",
   "name": "python3"
  },
  "language_info": {
   "codemirror_mode": {
    "name": "ipython",
    "version": 3
   },
   "file_extension": ".py",
   "mimetype": "text/x-python",
   "name": "python",
   "nbconvert_exporter": "python",
   "pygments_lexer": "ipython3",
   "version": "3.10.0"
  }
 },
 "nbformat": 4,
 "nbformat_minor": 5
}
